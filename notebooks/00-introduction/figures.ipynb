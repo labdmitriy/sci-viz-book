{
 "cells": [
  {
   "cell_type": "code",
   "execution_count": 1,
   "id": "613effc9-08f6-4ff7-b6bb-36997eae01a5",
   "metadata": {},
   "outputs": [],
   "source": [
    "import matplotlib as mpl\n",
    "import matplotlib.pyplot as plt\n",
    "\n",
    "%matplotlib inline\n",
    "mpl.rcParams['figure.dpi'] = 100"
   ]
  },
  {
   "cell_type": "markdown",
   "id": "4b88b1dc-c185-4c2a-9bd8-4bba9c764405",
   "metadata": {},
   "source": [
    "### Figure 2 - Matplotlib timeline"
   ]
  },
  {
   "cell_type": "markdown",
   "id": "da5bbe01-b707-4801-b8c3-e646d3c674f9",
   "metadata": {},
   "source": [
    "https://github.com/rougier/scientific-visualization-book/blob/master/code/introduction/matplotlib-timeline.py"
   ]
  },
  {
   "cell_type": "code",
   "execution_count": 2,
   "id": "6a3721f4-db6a-4813-8a58-296e5af3b967",
   "metadata": {},
   "outputs": [
    {
     "data": {
      "image/png": "[encoded data removed]",
      "text/plain": [
       "<Figure size 500x200 with 1 Axes>"
      ]
     },
     "metadata": {
      "needs_background": "light"
     },
     "output_type": "display_data"
    }
   ],
   "source": [
    "# ----------------------------------------------------------------------------\n",
    "# Title:   Scientific Visualisation - Python & Matplotlib\n",
    "# Author:  Nicolas P. Rougier\n",
    "# License: BSD\n",
    "# ----------------------------------------------------------------------------\n",
    "import numpy as np\n",
    "import matplotlib.pyplot as plt\n",
    "\n",
    "\n",
    "def annotate(ax, x, y, text, fc=\"#ff7777\", y0=0):\n",
    "    y = y - 0.5\n",
    "    ax.annotate(\n",
    "        \" \" + text + \" \",\n",
    "        xy=(x, y),\n",
    "        xycoords=\"data\",\n",
    "        xytext=(0, 12),\n",
    "        textcoords=\"offset points\",\n",
    "        color=\"white\",\n",
    "        size=\"x-small\",\n",
    "        va=\"center\",\n",
    "        ha=\"center\",\n",
    "        weight=\"bold\",\n",
    "        bbox=dict(boxstyle=\"round\", fc=fc, ec=\"none\"),\n",
    "        arrowprops=dict(\n",
    "            arrowstyle=\"wedge,tail_width=1.\", fc=fc, ec=\"none\", patchA=None\n",
    "        ),\n",
    "    )\n",
    "    plt.plot([x, x], [y, y0], color=\"black\", linestyle=\":\", linewidth=0.75)\n",
    "\n",
    "\n",
    "fig = plt.figure(figsize=(5, 2))\n",
    "ax = fig.add_subplot(111, xlim=(2002.5, 2021.5), ylim=(0, 6.5), yticks=([]))\n",
    "ax.tick_params(\"x\", labelsize=\"x-small\", which=\"major\")\n",
    "plt.plot([2002.5, 2021.5], [0, 0], color=\"black\", linewidth=1.0, clip_on=False)\n",
    "X = np.arange(2003, 2022)\n",
    "Y = np.zeros(len(X))\n",
    "plt.scatter(\n",
    "    X,\n",
    "    Y,\n",
    "    s=50,\n",
    "    linewidth=1.0,\n",
    "    zorder=10,\n",
    "    clip_on=False,\n",
    "    edgecolor=\"black\",\n",
    "    facecolor=\"white\",\n",
    ")\n",
    "\n",
    "annotate(ax, 2021, 4, \"3.4\")\n",
    "annotate(ax, 2020, 3, \"3.3\")\n",
    "annotate(ax, 2019, 4, \"3.2\")\n",
    "annotate(ax, 2019, 2, \"3.1\")\n",
    "annotate(ax, 2018, 3, \"3.0\", y0=1.5)\n",
    "annotate(ax, 2018, 1, \"2.2\", fc=\"#777777\")\n",
    "annotate(ax, 2017, 4, \"2.1\", y0=2.5)\n",
    "annotate(ax, 2017, 2, \"2.0\")\n",
    "annotate(ax, 2015, 2, \"1.5\")\n",
    "annotate(ax, 2014, 1, \"1.4\")\n",
    "annotate(ax, 2013, 2, \"1.3\")\n",
    "annotate(ax, 2012, 1, \"1.2\")\n",
    "annotate(ax, 2011, 3, \"1.1\", y0=2.5)\n",
    "annotate(ax, 2011, 2, \"1.0\")\n",
    "annotate(ax, 2009, 1, \"0.99\")\n",
    "annotate(ax, 2003, 1, \"0.10\")\n",
    "\n",
    "x0, x1 = 2002.5, 2011.9\n",
    "ax.plot([x0, x1], [5, 5], color=\"black\", linewidth=1, marker=\"|\", clip_on=False)\n",
    "ax.text((x0 + x1) / 2, 5.1, \"J.D. Hunter\", ha=\"center\", va=\"bottom\", size=\"x-small\")\n",
    "\n",
    "x0, x1 = 2012.1, 2017.9\n",
    "ax.plot([x0, x1], [5, 5], color=\"black\", linewidth=1, marker=\"|\", clip_on=False)\n",
    "ax.text((x0 + x1) / 2, 5.1, \"M. Droettboom\", ha=\"center\", va=\"bottom\", size=\"x-small\")\n",
    "\n",
    "x0, x1 = 2014.1, 2021.5\n",
    "ax.plot([x0, x1 + 1], [6, 6], color=\"black\", linewidth=1, marker=\"|\")\n",
    "ax.text((x0 + x1) / 2, 6.1, \"T. Caswell\", ha=\"center\", va=\"bottom\", size=\"x-small\")\n",
    "\n",
    "ax.spines[\"right\"].set_visible(False)\n",
    "ax.spines[\"left\"].set_visible(False)\n",
    "ax.spines[\"top\"].set_visible(False)\n",
    "ax.spines[\"bottom\"].set_visible(False)\n",
    "ax.set_xticks(np.arange(2003, 2022, 2))\n",
    "\n",
    "plt.tight_layout()\n",
    "plt.savefig(\"../../figures/00-introduction/matplotlib-timeline.pdf\")\n",
    "plt.savefig(\"../../figures/00-introduction/matplotlib-timeline.png\", dpi=300)\n",
    "plt.show()"
   ]
  }
 ],
 "metadata": {
  "kernelspec": {
   "display_name": "sci-viz-book",
   "language": "python",
   "name": "sci-viz-book"
  },
  "language_info": {
   "codemirror_mode": {
    "name": "ipython",
    "version": 3
   },
   "file_extension": ".py",
   "mimetype": "text/x-python",
   "name": "python",
   "nbconvert_exporter": "python",
   "pygments_lexer": "ipython3",
   "version": "3.10.4"
  }
 },
 "nbformat": 4,
 "nbformat_minor": 5
}
