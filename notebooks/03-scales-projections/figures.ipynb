{
 "cells": [
  {
   "cell_type": "code",
   "execution_count": 1,
   "id": "f10fc22a-2ec5-4227-94fe-6d57a8d84529",
   "metadata": {},
   "outputs": [],
   "source": [
    "# Fix figure.dpi\n",
    "%matplotlib inline\n",
    "# Display exactly the figure that will be saved\n",
    "%config InlineBackend.print_figure_kwargs = {'bbox_inches': None}\n",
    "\n",
    "import matplotlib.pyplot as plt"
   ]
  },
  {
   "cell_type": "code",
   "execution_count": 2,
   "id": "20575d40-a31e-4189-bd4e-4a34b8c25774",
   "metadata": {},
   "outputs": [
    {
     "data": {
      "text/plain": [
       "100.0"
      ]
     },
     "execution_count": 2,
     "metadata": {},
     "output_type": "execute_result"
    }
   ],
   "source": [
    "plt.rcParams['figure.dpi'] = 100\n",
    "plt.rcParams['figure.dpi']"
   ]
  },
  {
   "cell_type": "markdown",
   "id": "b8c8ac7d-d346-420d-9c34-4eea8f3fdc9e",
   "metadata": {},
   "source": [
    "### Scales check"
   ]
  },
  {
   "cell_type": "markdown",
   "id": "d1594b6c-e601-4ba5-a64b-4351f81dd378",
   "metadata": {},
   "source": [
    "https://github.com/rougier/scientific-visualization-book/blob/master/code/scales-projections/scales-check.py"
   ]
  },
  {
   "cell_type": "code",
   "execution_count": 3,
   "id": "a2a23ba1-5753-41d1-b505-71413f084892",
   "metadata": {},
   "outputs": [
    {
     "name": "stdout",
     "output_type": "stream",
     "text": [
      "Linear scale\n",
      " -> distance(  0.1,  1.0) = 4.19\n",
      " -> distance(  1.0, 10.0) = 41.85\n",
      " -> distance( 10.0,100.0) = 418.50\n",
      "\n",
      "Log scale\n",
      " -> distance(  0.1,  1.0) = 155.00\n",
      " -> distance(  1.0, 10.0) = 155.00\n",
      " -> distance( 10.0,100.0) = 155.00\n"
     ]
    },
    {
     "data": {
      "image/png": "[encoded data removed]",
      "text/plain": [
       "<Figure size 600x600 with 1 Axes>"
      ]
     },
     "metadata": {
      "needs_background": "light"
     },
     "output_type": "display_data"
    },
    {
     "data": {
      "image/png": "[encoded data removed]",
      "text/plain": [
       "<Figure size 600x600 with 1 Axes>"
      ]
     },
     "metadata": {
      "needs_background": "light"
     },
     "output_type": "display_data"
    }
   ],
   "source": [
    "# ----------------------------------------------------------------------------\n",
    "# Title:   Scientific Visualisation - Python & Matplotlib\n",
    "# Author:  Nicolas P. Rougier\n",
    "# License: BSD\n",
    "# ----------------------------------------------------------------------------\n",
    "import numpy as np\n",
    "import matplotlib.pyplot as plt\n",
    "from matplotlib.ticker import NullFormatter, SymmetricalLogLocator\n",
    "\n",
    "\n",
    "fig = plt.figure(figsize=(6, 6))\n",
    "ax = plt.subplot(1, 1, 1, aspect=1, xlim=[0, 100], ylim=[0, 100])\n",
    "P0, P1, P2, P3 = (0.1, 0.1), (1, 1), (10, 10), (100, 100)\n",
    "transform = ax.transData.transform\n",
    "print(\"Linear scale\")\n",
    "print(\n",
    "    \" -> distance({0:5.1f},{1:5.1f}) = {2:.2f}\".format(\n",
    "        P0[0], P1[0], abs((transform(P1) - transform(P0))[0])\n",
    "    )\n",
    ")\n",
    "print(\n",
    "    \" -> distance({0:5.1f},{1:5.1f}) = {2:.2f}\".format(\n",
    "        P1[0], P2[0], abs((transform(P2) - transform(P1))[0])\n",
    "    )\n",
    ")\n",
    "print(\n",
    "    \" -> distance({0:5.1f},{1:5.1f}) = {2:.2f}\".format(\n",
    "        P2[0], P3[0], abs((transform(P3) - transform(P2))[0])\n",
    "    )\n",
    ")\n",
    "print()\n",
    "\n",
    "fig = plt.figure(figsize=(6, 6))\n",
    "ax = plt.subplot(1, 1, 1, aspect=1, xlim=[0.1, 100], ylim=[0.1, 100])\n",
    "ax.set_xscale(\"log\")\n",
    "transform = ax.transData.transform\n",
    "\n",
    "P0, P1, P2, P3 = (0.1, 0.1), (1, 1), (10, 10), (100, 100)\n",
    "print(\"Log scale\")\n",
    "print(\n",
    "    \" -> distance({0:5.1f},{1:5.1f}) = {2:.2f}\".format(\n",
    "        P0[0], P1[0], abs((transform(P1) - transform(P0))[0])\n",
    "    )\n",
    ")\n",
    "print(\n",
    "    \" -> distance({0:5.1f},{1:5.1f}) = {2:.2f}\".format(\n",
    "        P1[0], P2[0], abs((transform(P2) - transform(P1))[0])\n",
    "    )\n",
    ")\n",
    "print(\n",
    "    \" -> distance({0:5.1f},{1:5.1f}) = {2:.2f}\".format(\n",
    "        P2[0], P3[0], abs((transform(P3) - transform(P2))[0])\n",
    "    )\n",
    ")"
   ]
  },
  {
   "cell_type": "markdown",
   "id": "ddf5ea33-1c56-4339-bd50-c3dd0576070d",
   "metadata": {},
   "source": [
    "### Figure 3.1 - Comparison of the linear, log and logit scales"
   ]
  },
  {
   "cell_type": "markdown",
   "id": "049a36a4-d128-427c-b472-3fda21ca981a",
   "metadata": {},
   "source": [
    "https://github.com/rougier/scientific-visualization-book/blob/master/code/scales-projections/scales-comparison.py"
   ]
  },
  {
   "cell_type": "markdown",
   "id": "33901fac-7c0f-4293-9972-6fcc577c3ab6",
   "metadata": {},
   "source": [
    "**Install Roboto for Ubuntu 20.04**\n",
    "\n",
    "- Stop Jupyter Lab\n",
    "- Install font\n",
    "```bash\n",
    "sudo apt-get install fonts-roboto\n",
    "```\n",
    "- Remove matplotlib cache\n",
    "```bash\n",
    "rm -rf ~/.cache matplotlib\n",
    "```\n",
    "- Start Jupyter Lab"
   ]
  },
  {
   "cell_type": "raw",
   "id": "509873cb-6fbe-4a12-a151-da954c010cc1",
   "metadata": {},
   "source": [
    "# ----------------------------------------------------------------------------\n",
    "# Title:   Scientific Visualisation - Python & Matplotlib\n",
    "# Author:  Nicolas P. Rougier\n",
    "# License: BSD\n",
    "# ----------------------------------------------------------------------------\n",
    "import numpy as np\n",
    "import matplotlib.pyplot as plt\n",
    "import matplotlib.ticker as ticker\n",
    "\n",
    "\n",
    "# Style\n",
    "# -----------------------------------------------------------------------------\n",
    "plt.rc(\"font\", family=\"Roboto\")\n",
    "plt.rc(\"xtick\", labelsize=\"small\")\n",
    "plt.rc(\"ytick\", labelsize=\"small\")\n",
    "plt.rc(\"axes\", labelsize=\"medium\", titlesize=\"medium\")\n",
    "\n",
    "\n",
    "fig = plt.figure(figsize=(6, 2))\n",
    "\n",
    "# Linear axis\n",
    "# -----------------------------------------------------------------------------\n",
    "ax = plt.subplot(3, 1, 1, xlim=[0, 1], ylim=[0, 1])\n",
    "ax.patch.set_facecolor(\"none\")\n",
    "ax.text(\n",
    "    0.5,\n",
    "    0.1,\n",
    "    \"linear scale (default)\",\n",
    "    transform=ax.transAxes,\n",
    "    horizontalalignment=\"center\",\n",
    "    verticalalignment=\"bottom\",\n",
    ")\n",
    "ax.set_yticks([])\n",
    "ax.spines[\"right\"].set_visible(False)\n",
    "ax.spines[\"left\"].set_visible(False)\n",
    "ax.spines[\"top\"].set_visible(False)\n",
    "ax.xaxis.set_major_locator(ticker.MultipleLocator(0.10))\n",
    "ax.xaxis.set_major_formatter(ticker.FormatStrFormatter(\"%.1f\"))\n",
    "ax.xaxis.set_minor_locator(ticker.MultipleLocator(0.02))\n",
    "ax.xaxis.set_minor_formatter(plt.NullFormatter())\n",
    "ax.tick_params(axis=\"both\", which=\"major\")\n",
    "\n",
    "\n",
    "# Log axis\n",
    "# -----------------------------------------------------------------------------\n",
    "ax = plt.subplot(3, 1, 2, xlim=[0.1, 1.0], ylim=[0, 1])\n",
    "ax.patch.set_facecolor(\"none\")\n",
    "ax.text(\n",
    "    0.5,\n",
    "    0.1,\n",
    "    \"log scale ('log')\",\n",
    "    transform=ax.transAxes,\n",
    "    horizontalalignment=\"center\",\n",
    "    verticalalignment=\"bottom\",\n",
    ")\n",
    "ax.set_xscale(\"log\")\n",
    "ax.set_yticks([])\n",
    "ax.spines[\"right\"].set_visible(False)\n",
    "ax.spines[\"left\"].set_visible(False)\n",
    "ax.spines[\"top\"].set_visible(False)\n",
    "ax.xaxis.set_major_locator(ticker.MultipleLocator(0.10))\n",
    "ax.xaxis.set_major_formatter(ticker.FormatStrFormatter(\"%.1f\"))\n",
    "ax.xaxis.set_minor_locator(ticker.MultipleLocator(0.02))\n",
    "ax.xaxis.set_minor_formatter(plt.NullFormatter())\n",
    "\n",
    "# Logit axis\n",
    "# -----------------------------------------------------------------------------\n",
    "ax = plt.subplot(3, 1, 3, xlim=[0.1, 0.9], ylim=[0, 1])\n",
    "ax.patch.set_facecolor(\"none\")\n",
    "ax.text(\n",
    "    0.5,\n",
    "    0.1,\n",
    "    \"logit scale ('logit')\",\n",
    "    transform=ax.transAxes,\n",
    "    horizontalalignment=\"center\",\n",
    "    verticalalignment=\"bottom\",\n",
    ")\n",
    "ax.set_xscale(\"logit\")\n",
    "ax.set_yticks([])\n",
    "ax.spines[\"right\"].set_visible(False)\n",
    "ax.spines[\"left\"].set_visible(False)\n",
    "ax.spines[\"top\"].set_visible(False)\n",
    "ax.xaxis.set_major_locator(ticker.MultipleLocator(0.10))\n",
    "ax.xaxis.set_major_formatter(ticker.FormatStrFormatter(\"%.1f\"))\n",
    "ax.xaxis.set_minor_locator(ticker.MultipleLocator(0.02))\n",
    "ax.xaxis.set_minor_formatter(plt.NullFormatter())\n",
    "\n",
    "# Show\n",
    "# -----------------------------------------------------------------------------\n",
    "plt.tight_layout()\n",
    "plt.savefig(\"../../figures/03-scales-projections/scales-comparison.pdf\")\n",
    "plt.show()"
   ]
  },
  {
   "cell_type": "code",
   "execution_count": null,
   "id": "2bbdce67-e7b1-4af4-ad0a-3148a6b534e6",
   "metadata": {},
   "outputs": [],
   "source": []
  },
  {
   "cell_type": "code",
   "execution_count": null,
   "id": "cb851fb2-cfe9-48fa-89d4-6a19a43ec30a",
   "metadata": {},
   "outputs": [],
   "source": []
  }
 ],
 "metadata": {
  "kernelspec": {
   "display_name": "sci-viz-book",
   "language": "python",
   "name": "sci-viz-book"
  },
  "language_info": {
   "codemirror_mode": {
    "name": "ipython",
    "version": 3
   },
   "file_extension": ".py",
   "mimetype": "text/x-python",
   "name": "python",
   "nbconvert_exporter": "python",
   "pygments_lexer": "ipython3",
   "version": "3.10.4"
  }
 },
 "nbformat": 4,
 "nbformat_minor": 5
}
